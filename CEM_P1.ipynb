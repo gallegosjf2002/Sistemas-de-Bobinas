{
 "cells": [
  {
   "cell_type": "code",
   "execution_count": 7,
   "metadata": {},
   "outputs": [],
   "source": [
    "# package imports and plotting elements\n",
    "from math import *\n",
    "import numpy as np\n",
    "\n",
    "%matplotlib inline\n",
    "import matplotlib.pyplot as plt\n",
    "from matplotlib.colors import LogNorm\n",
    "plt.style.use('fivethirtyeight')\n",
    "plt.rcParams['axes.facecolor'] = '#e8e8e8'\n",
    "plt.rcParams['axes.edgecolor'] = '#e8e8e8'\n",
    "plt.rcParams['figure.facecolor'] = '#e8e8e8'"
   ]
  },
  {
   "cell_type": "markdown",
   "metadata": {},
   "source": [
    "Generalidades"
   ]
  },
  {
   "cell_type": "code",
   "execution_count": 8,
   "metadata": {},
   "outputs": [],
   "source": [
    "E=0.0001\n",
    "u = 1.2566370614 # mT*mm/A\n",
    "Radio=30\n",
    "L=6#-2*Radio #mm\n",
    "a=3#-2*Radio #mm\n",
    "xc=12\n",
    "yc=12\n"
   ]
  },
  {
   "cell_type": "markdown",
   "metadata": {},
   "source": [
    "CONFIGURACIÓN BOBINA 1"
   ]
  },
  {
   "cell_type": "code",
   "execution_count": 9,
   "metadata": {},
   "outputs": [],
   "source": [
    "I1=2.5 #A\n",
    "N1=4060 #vueltas"
   ]
  },
  {
   "cell_type": "code",
   "execution_count": 10,
   "metadata": {},
   "outputs": [
    {
     "name": "stdout",
     "output_type": "stream",
     "text": [
      "Campo bobina 1 en eje x ==>  896.4262065404704  mT\n",
      "Campo bobina 1 eje y ==>  627.5113678764535  mT \n"
     ]
    }
   ],
   "source": [
    "def BT1x(xc,yc,u,I1,N1,L,a):\n",
    "    vrx=-(L/2)-xc-E\n",
    "    vry=(a/2)-yc-E\n",
    "    DB=np.sqrt((vrx)**2 +(vry)**2)\n",
    "    an=np.arcsin(((vry)/DB))\n",
    "    BT1x=(u*I1*N1/2*np.pi)*np.cos(an)/DB\n",
    "    return BT1x\n",
    "print(\"Campo bobina 1 en eje x ==> \",BT1x(xc,yc,u,I1,N1,L,a), \" mT\")\n",
    "def BT1y(x,y,u,I1,N1,L,a):\n",
    "    vrx=-(L/2)-x+E\n",
    "    vry=(a/2)-y-E\n",
    "    DB=np.sqrt((vrx)**2 +(vry)**2)\n",
    "    an=np.arcsin(((vry)/DB))\n",
    "    BT1y=(u*I1*N1/2*np.pi)*np.sin(an)/DB\n",
    "    return -BT1y\n",
    "print(\"Campo bobina 1 eje y ==> \",BT1y(xc,yc,u,I1,N1,L,a), \" mT \")"
   ]
  },
  {
   "cell_type": "code",
   "execution_count": 11,
   "metadata": {},
   "outputs": [
    {
     "name": "stdout",
     "output_type": "stream",
     "text": [
      "Matriz eje x: \n",
      "[[-3.  -1.8 -0.6  0.6  1.8  3. ]\n",
      " [-3.  -1.8 -0.6  0.6  1.8  3. ]\n",
      " [-3.  -1.8 -0.6  0.6  1.8  3. ]]\n",
      "Matriz eje y: \n",
      "[[ 1.5  1.5  1.5  1.5  1.5  1.5]\n",
      " [ 0.   0.   0.   0.   0.   0. ]\n",
      " [-1.5 -1.5 -1.5 -1.5 -1.5 -1.5]]\n",
      "En X:  -3.0\n",
      "En Y:  1.5\n",
      "100176484.66819373\n",
      "En X:  -1.8\n",
      "En Y:  1.5\n",
      "16694.689437986777\n",
      "En X:  -0.6000000000000001\n",
      "En Y:  1.5\n",
      "8347.692554001142\n",
      "En X:  -3.0\n",
      "En Y:  0.0\n",
      "0.8905763916924255\n",
      "En X:  -1.8\n",
      "En Y:  0.0\n",
      "6516.1925992661145\n",
      "En X:  -0.6000000000000001\n",
      "En Y:  0.0\n",
      "6003.200433743355\n",
      "En X:  -3.0\n",
      "En Y:  -1.5\n",
      "0.22262924741508616\n",
      "En X:  -1.8\n",
      "En Y:  -1.5\n",
      "2303.1790180500752\n",
      "En X:  -0.6000000000000001\n",
      "En Y:  -1.5\n",
      "3257.9340824768005\n",
      "[1.00176485e+08 1.66946894e+04 8.34769255e+03 8.90576392e-01\n",
      " 6.51619260e+03 6.00320043e+03 2.22629247e-01 2.30317902e+03\n",
      " 3.25793408e+03]\n"
     ]
    }
   ],
   "source": [
    "xc1=np.linspace(-(L/2),(L/2),L,\n",
    "                endpoint=True, dtype=np.float64)\n",
    "yc1=np.linspace((a/2),-(a/2),a,endpoint=True, dtype=np.float64)\n",
    "XC1, YC1 = np.meshgrid(xc1,yc1)\n",
    "#XC1_1 = np.asarray(XC1)\n",
    "#YC1_1 = np.asarray(YC1)\n",
    "\n",
    "# print(xc1)\n",
    "\n",
    "\n",
    "print(\"Matriz eje x: \")\n",
    "# # print(XC1_1)\n",
    "print(XC1)\n",
    "print(\"Matriz eje y: \")\n",
    "print(YC1)\n",
    "# print(YC1_1)\n",
    "\n",
    "matrizXY = []\n",
    "\n",
    "# if len(XC1)==len(YC1):\n",
    "\n",
    "for i in range(len(XC1)):\n",
    "    for j in range(len(YC1)):\n",
    "        # print(f\"run {i}{j}, resultado: \", XC1[i][j])\n",
    "        X = XC1[i][j]\n",
    "        print(\"En X: \", X)\n",
    "        Y = YC1[i][j]\n",
    "        print(\"En Y: \", Y)\n",
    "        x2 = BT1x(X, Y, u,I1,N1,L,a)\n",
    "        matrizXY.append(x2)\n",
    "        print(x2)\n",
    "     \n",
    "matrizXY = np.asarray(matrizXY)   \n",
    "print(matrizXY)"
   ]
  },
  {
   "cell_type": "code",
   "execution_count": 12,
   "metadata": {},
   "outputs": [
    {
     "ename": "NameError",
     "evalue": "name 'R_avg' is not defined",
     "output_type": "error",
     "traceback": [
      "\u001b[1;31m---------------------------------------------------------------------------\u001b[0m",
      "\u001b[1;31mNameError\u001b[0m                                 Traceback (most recent call last)",
      "Cell \u001b[1;32mIn[12], line 3\u001b[0m\n\u001b[0;32m      1\u001b[0m \u001b[38;5;66;03m# define the resolution, area of interest, and axes\u001b[39;00m\n\u001b[0;32m      2\u001b[0m pts_per_axis \u001b[38;5;241m=\u001b[39m \u001b[38;5;241m100\u001b[39m\n\u001b[1;32m----> 3\u001b[0m img_span \u001b[38;5;241m=\u001b[39m \u001b[43mR_avg\u001b[49m\u001b[38;5;241m/\u001b[39m\u001b[38;5;241m6\u001b[39m \u001b[38;5;66;03m# (mm)\u001b[39;00m\n\u001b[0;32m      5\u001b[0m x \u001b[38;5;241m=\u001b[39m np\u001b[38;5;241m.\u001b[39mlinspace(\u001b[38;5;241m-\u001b[39mimg_span, img_span, pts_per_axis, \n\u001b[0;32m      6\u001b[0m                 endpoint\u001b[38;5;241m=\u001b[39m\u001b[38;5;28;01mTrue\u001b[39;00m, dtype\u001b[38;5;241m=\u001b[39mnp\u001b[38;5;241m.\u001b[39mfloat64)   \u001b[38;5;66;03m# (mm)\u001b[39;00m\n\u001b[0;32m      7\u001b[0m y \u001b[38;5;241m=\u001b[39m np\u001b[38;5;241m.\u001b[39mlinspace(\u001b[38;5;241m-\u001b[39mimg_span, img_span, pts_per_axis, \n\u001b[0;32m      8\u001b[0m                  endpoint\u001b[38;5;241m=\u001b[39m\u001b[38;5;28;01mTrue\u001b[39;00m, dtype\u001b[38;5;241m=\u001b[39mnp\u001b[38;5;241m.\u001b[39mfloat64)  \u001b[38;5;66;03m# (mm)\u001b[39;00m\n",
      "\u001b[1;31mNameError\u001b[0m: name 'R_avg' is not defined"
     ]
    }
   ],
   "source": [
    "# define the resolution, area of interest, and axes\n",
    "pts_per_axis = 100\n",
    "img_span = R_avg/6 # (mm)\n",
    "\n",
    "x = np.linspace(-img_span, img_span, pts_per_axis, \n",
    "                endpoint=True, dtype=np.float64)   # (mm)\n",
    "y = np.linspace(-img_span, img_span, pts_per_axis, \n",
    "                 endpoint=True, dtype=np.float64)  # (mm)\n",
    "\n",
    "#print(x)\n",
    "print(y)\n",
    "# create empty arrays to store data in\n",
    "Bx_map = np.empty(shape=[x.size, y.size], dtype=np.float64)\n",
    "By_map = np.empty(shape=[x.size, y.size], dtype=np.float64)\n",
    "\n",
    "# iterate over all (x,y) positions to calc. Bx and By using O(4) eqns.\n",
    "for ix, xval in enumerate(x):\n",
    "    for iy, yval in enumerate(y):\n",
    "        Bx_map[ix,iy] = Bx(xval, yval, N, I, a, b, R_avg, tau, rho)\n",
    "        By_map[ix,iy] = By(xval, yval, N, I, a, b, R_avg, tau, rho)\n"
   ]
  },
  {
   "cell_type": "markdown",
   "metadata": {},
   "source": [
    "CONFIGURACIÓN BOBINA 2"
   ]
  },
  {
   "cell_type": "code",
   "execution_count": null,
   "metadata": {},
   "outputs": [],
   "source": [
    "I2=2.5 #A\n",
    "N2=4060 #vueltas"
   ]
  },
  {
   "cell_type": "code",
   "execution_count": null,
   "metadata": {},
   "outputs": [
    {
     "name": "stdout",
     "output_type": "stream",
     "text": [
      "Campo bobina 2 en eje x ==>  -942.8287523213149  mT\n",
      "Campo bobina 2 eje y ==>  1099.9683359059602  mT \n"
     ]
    }
   ],
   "source": [
    "def BT2x(xc,yc,u,I2,N2,L,a):\n",
    "    vrx=(L/2)-xc-E\n",
    "    vry=(a/2)-yc-E\n",
    "    DB=np.sqrt((vrx)**2 +(vry)**2)\n",
    "    an=np.arcsin(((vry)/DB))\n",
    "    BT2x=(u*I2*N2/2*np.pi)*np.cos(an)/DB\n",
    "    return -BT2x\n",
    "print(\"Campo bobina 2 en eje x ==> \",BT2x(xc,yc,u,I2,N2,L,a), \" mT\")\n",
    "def BT2y(xc,yc,u,I2,N2,L,a):\n",
    "    vrx=(L/2)-xc-E\n",
    "    vry=(a/2)-yc+E\n",
    "    DB=np.sqrt((vrx)**2 +(vry)**2)\n",
    "    an=np.arcsin(((vry)/DB))\n",
    "    BT2y=(u*I2*N2/2*np.pi)*np.sin(an)/DB\n",
    "    return -BT2y\n",
    "print(\"Campo bobina 2 eje y ==> \",BT2y(xc,yc,u,I2,N2,L,a), \" mT \")"
   ]
  },
  {
   "cell_type": "code",
   "execution_count": null,
   "metadata": {},
   "outputs": [],
   "source": []
  },
  {
   "cell_type": "markdown",
   "metadata": {},
   "source": [
    "CONFIGURACIÓN BOBINA 3"
   ]
  },
  {
   "cell_type": "code",
   "execution_count": null,
   "metadata": {},
   "outputs": [],
   "source": [
    "I3=2.5 #A\n",
    "N3=4060 #vueltas"
   ]
  },
  {
   "cell_type": "code",
   "execution_count": null,
   "metadata": {},
   "outputs": [
    {
     "name": "stdout",
     "output_type": "stream",
     "text": [
      "Campo bobina 3 en eje x ==>  737.9537306234336  mT\n",
      "Campo bobina 3 eje y ==>  664.1578655886566  mT \n"
     ]
    }
   ],
   "source": [
    "def BT3x(xc,yc,u,I3,N3,L,a):\n",
    "    vrx=-(L/2)-xc+E\n",
    "    vry=-(a/2)-yc+E\n",
    "    DB=np.sqrt((vrx)**2 +(vry)**2)\n",
    "    an=np.arcsin(((vry)/DB))\n",
    "    BT3x=(u*I3*N3/2*np.pi)*np.cos(an)/DB\n",
    "    return BT3x\n",
    "print(\"Campo bobina 3 en eje x ==> \",BT3x(xc,yc,u,I3,N3,L,a), \" mT\")\n",
    "def BT3y(xc,yc,u,I3,N3,L,a):\n",
    "    vrx=-(L/2)-xc+E\n",
    "    vry=-(a/2)-yc+E\n",
    "    DB=np.sqrt((vrx)**2 +(vry)**2)\n",
    "    an=np.arcsin(((vry)/DB))\n",
    "    BT3y=(u*I3*N3/2*np.pi)*np.sin(an)/DB\n",
    "    return -BT3y #REVISAR\n",
    "print(\"Campo bobina 3 eje y ==> \",BT3y(xc,yc,u,I3,N3,L,a), \" mT \")"
   ]
  },
  {
   "cell_type": "markdown",
   "metadata": {},
   "source": [
    "CONFIGURACIÓN BOBINA 4"
   ]
  },
  {
   "cell_type": "code",
   "execution_count": null,
   "metadata": {},
   "outputs": [],
   "source": [
    "I4=2.5 #A\n",
    "N4=4060 #vueltas"
   ]
  },
  {
   "cell_type": "code",
   "execution_count": null,
   "metadata": {},
   "outputs": [
    {
     "name": "stdout",
     "output_type": "stream",
     "text": [
      "Campo bobina 4 en eje x ==>  -684.9773690346615  mT\n",
      "Campo bobina 4 eje y ==>  1027.4470266142628  mT \n"
     ]
    }
   ],
   "source": [
    "def BT4x(xc,yc,u,I4,N4,L,a):\n",
    "    vrx=(L/2)-xc-E\n",
    "    vry=-(a/2)-yc+E\n",
    "    DB=np.sqrt((vrx)**2 +(vry)**2)\n",
    "    an=np.arcsin(((vry)/DB))\n",
    "    BT4x=(u*I4*N4/2*np.pi)*np.cos(an)/DB\n",
    "    return -BT4x\n",
    "print(\"Campo bobina 4 en eje x ==> \",BT4x(xc,yc,u,I4,N4,L,a), \" mT\")\n",
    "def BT4y(xc,yc,u,I4,N4,L,a):\n",
    "    vrx=(L/2)-xc-E\n",
    "    vry=-(a/2)-yc+E\n",
    "    DB=np.sqrt((vrx)**2 +(vry)**2)\n",
    "    an=np.arcsin(((vry)/DB))\n",
    "    BT4y=(u*I4*N4/2*np.pi)*np.sin(an)/DB\n",
    "    return -BT4y\n",
    "print(\"Campo bobina 4 eje y ==> \",BT4y(xc,yc,u,I4,N4,L,a), \" mT \")"
   ]
  },
  {
   "cell_type": "markdown",
   "metadata": {},
   "source": [
    "CAMPOS TOTALES"
   ]
  },
  {
   "cell_type": "code",
   "execution_count": null,
   "metadata": {},
   "outputs": [
    {
     "name": "stdout",
     "output_type": "stream",
     "text": [
      "Campo total eje x ==> 6.573815807927531  mT\n",
      "Campo total eje y ==> 3419.084595985333  mT\n",
      "Campo total 3419.090915661423  mT\n"
     ]
    }
   ],
   "source": [
    "CAMPO_Tx= BT1x(xc,yc,u,I1,N1,L,a) + BT2x(xc,yc,u,I2,N2,L,a) + BT3x(xc,yc,u,I3,N3,L,a) + BT4x(xc,yc,u,I4,N4,L,a)\n",
    "print(\"Campo total eje x ==>\", CAMPO_Tx,\" mT\")\n",
    "CAMPO_Ty= BT1y(xc,yc,u,I1,N1,L,a) + BT2y(xc,yc,u,I2,N2,L,a) + BT3y(xc,yc,u,I3,N3,L,a) + BT4y(xc,yc,u,I4,N4,L,a)\n",
    "print(\"Campo total eje y ==>\", CAMPO_Ty,\" mT\")\n",
    "\n",
    "CampoT=np.sqrt(CAMPO_Ty**2+CAMPO_Tx**2)\n",
    "\n",
    "print(\"Campo total\", CampoT,\" mT\")"
   ]
  }
 ],
 "metadata": {
  "kernelspec": {
   "display_name": "CEM",
   "language": "python",
   "name": "python3"
  },
  "language_info": {
   "codemirror_mode": {
    "name": "ipython",
    "version": 3
   },
   "file_extension": ".py",
   "mimetype": "text/x-python",
   "name": "python",
   "nbconvert_exporter": "python",
   "pygments_lexer": "ipython3",
   "version": "3.11.5"
  }
 },
 "nbformat": 4,
 "nbformat_minor": 2
}
