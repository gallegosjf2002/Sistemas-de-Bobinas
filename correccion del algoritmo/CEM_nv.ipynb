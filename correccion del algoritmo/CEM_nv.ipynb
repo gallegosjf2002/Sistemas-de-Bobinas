{
 "cells": [
  {
   "cell_type": "code",
   "execution_count": null,
   "metadata": {},
   "outputs": [],
   "source": [
    "import numpy as np\n",
    "import matplotlib.pyplot as plt\n",
    "from scipy.integrate import quad\n",
    "from mpl_toolkits.mplot3d import Axes3D\n",
    "from scipy.interpolate import griddata"
   ]
  },
  {
   "cell_type": "code",
   "execution_count": null,
   "metadata": {},
   "outputs": [],
   "source": [
    "# Parámetros ajustados para visualización\n",
    "N = 110\n",
    "R = 0.055  # Radio de las bobinas\n",
    "I = 5\n",
    "d = 0.11   # Separación aumentada para mejor visualización\n",
    "d_e=0.1\n",
    "mu_0 = 4 * np.pi * 1e-7\n"
   ]
  },
  {
   "cell_type": "code",
   "execution_count": null,
   "metadata": {},
   "outputs": [],
   "source": [
    "# Función corregida (magnitud absoluta)\n",
    "def B_z(x, y, z, a, b):\n",
    "    k = (mu_0 * N * I) / (4 * np.pi)\n",
    "    \n",
    "    def integrand(phi):\n",
    "        x_coil = a + R * np.cos(phi)\n",
    "        y_coil = b + R * np.sin(phi)\n",
    "        z_coil = 0\n",
    "        \n",
    "        dl_x = -R * np.sin(phi)\n",
    "        dl_y = R * np.cos(phi)\n",
    "        \n",
    "        r_x = x - x_coil\n",
    "        r_y = y - y_coil\n",
    "        r_z = z - z_coil\n",
    "        r_mag = (r_x**2 + r_y**2 + r_z**2)**1.5\n",
    "        \n",
    "        cross_z = dl_x * r_y - dl_y * r_x\n",
    "        \n",
    "        return cross_z / r_mag\n",
    "    \n",
    "    integral, _ = quad(integrand, 0, 2*np.pi)\n",
    "    return abs(k * integral)  # Magnitud absoluta para evitar valores negativos"
   ]
  },
  {
   "cell_type": "code",
   "execution_count": null,
   "metadata": {},
   "outputs": [],
   "source": [
    "# Malla 3D optimizada (incluyendo eje Z)\n",
    "x = np.linspace(-d, d, 20)\n",
    "y = np.linspace(-d, d, 20)\n",
    "z_val = 0  # Focalizar en plano Z=0 para la curva principal\n",
    "X, Y = np.meshgrid(x, y)"
   ]
  },
  {
   "cell_type": "code",
   "execution_count": null,
   "metadata": {},
   "outputs": [],
   "source": [
    "# Cálculo del campo corregido\n",
    "B = np.zeros_like(X)\n",
    "for i in range(X.shape[0]):\n",
    "    for j in range(X.shape[1]):\n",
    "        B[i,j] = (\n",
    "            B_z(X[i,j], Y[i,j], z_val, d+d_e, 0) +\n",
    "            B_z(X[i,j], Y[i,j], z_val, -d-d_e, 0) +\n",
    "            B_z(X[i,j], Y[i,j], z_val, 0, d+d_e) +\n",
    "            B_z(X[i,j], Y[i,j], z_val, 0, -d-d_e)\n",
    "        )"
   ]
  },
  {
   "cell_type": "code",
   "execution_count": null,
   "metadata": {},
   "outputs": [],
   "source": [
    "# Interpolación suave\n",
    "x_fine = np.linspace(-d, d, 100)\n",
    "y_fine = np.linspace(-d, d, 100)\n",
    "X_fine, Y_fine = np.meshgrid(x_fine, y_fine)\n",
    "B_fine = griddata((X.flatten(), Y.flatten()), B.flatten(), (X_fine, Y_fine), method='cubic')\n"
   ]
  },
  {
   "cell_type": "code",
   "execution_count": null,
   "metadata": {},
   "outputs": [],
   "source": [
    "# Visualización 3D profesional\n",
    "fig = plt.figure(figsize=(12, 8))\n",
    "ax = fig.add_subplot(111, projection='3d')\n"
   ]
  },
  {
   "cell_type": "code",
   "execution_count": null,
   "metadata": {},
   "outputs": [],
   "source": [
    "# Superficie con curva en Z\n",
    "surf = ax.plot_surface(\n",
    "    X_fine, Y_fine, B_fine,\n",
    "    cmap='plasma',\n",
    "    rstride=2,\n",
    "    cstride=2,\n",
    "    alpha=0.9,\n",
    "    linewidth=0.2,\n",
    "    antialiased=True\n",
    ")"
   ]
  },
  {
   "cell_type": "code",
   "execution_count": null,
   "metadata": {},
   "outputs": [],
   "source": [
    "# Bobinas verticales autoajustadas\n",
    "theta = np.linspace(0, 2*np.pi, 100)\n",
    "for pos in [(d,0), (-d,0), (0,d), (0,-d)]:\n",
    "    if pos[0] != 0:  # Bobinas en X\n",
    "        x_coil = pos[0] * np.ones_like(theta)\n",
    "        y_coil = R * np.cos(theta)\n",
    "        z_coil = R * np.sin(theta)\n",
    "    else:  # Bobinas en Y\n",
    "        x_coil = R * np.cos(theta)\n",
    "        y_coil = pos[1] * np.ones_like(theta)\n",
    "        z_coil = R * np.sin(theta)"
   ]
  },
  {
   "cell_type": "code",
   "execution_count": null,
   "metadata": {},
   "outputs": [],
   "source": [
    "# Ajuste Z para visualización 3D\n",
    "    ax.plot(\n",
    "        x_coil, \n",
    "        y_coil, \n",
    "        z_coil * 0.8 * B_fine.max()/R,  # Escalado a la magnitud del campo\n",
    "        'r-',\n",
    "        lw=2,\n",
    "        alpha=0.7\n",
    "    )\n"
   ]
  },
  {
   "cell_type": "code",
   "execution_count": null,
   "metadata": {},
   "outputs": [],
   "source": [
    "# Ajustes de ejes y perspectiva\n",
    "ax.set_zlim(0, 1.2*B_fine.max())\n",
    "ax.set_xlim(-d, d)\n",
    "ax.set_ylim(-d, d)\n",
    "ax.view_init(30, 45)\n",
    "ax.dist = 10"
   ]
  },
  {
   "cell_type": "code",
   "execution_count": null,
   "metadata": {},
   "outputs": [],
   "source": [
    "# Etiquetas y estilo profesional\n",
    "ax.set_xlabel('X (m)', fontsize=12, labelpad=12)\n",
    "ax.set_ylabel('Y (m)', fontsize=12, labelpad=12)\n",
    "ax.set_zlabel('|B| (T)', fontsize=12, labelpad=12)\n",
    "plt.title('Configuración de 4 Bobinas en Cruz con Campo Magnético Optimizado', pad=20)\n",
    "\n",
    "# Barra de color mejorada\n",
    "cbar = fig.colorbar(surf, shrink=0.7, aspect=20, pad=0.1)\n",
    "cbar.set_label('Densidad de Flujo Magnético (T)', rotation=270, labelpad=25)\n",
    "\n",
    "plt.tight_layout()\n",
    "plt.show()"
   ]
  }
 ],
 "metadata": {
  "kernelspec": {
   "display_name": "base",
   "language": "python",
   "name": "python3"
  },
  "language_info": {
   "name": "python",
   "version": "3.12.4"
  }
 },
 "nbformat": 4,
 "nbformat_minor": 2
}
